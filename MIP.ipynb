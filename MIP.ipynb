{
  "nbformat": 4,
  "nbformat_minor": 0,
  "metadata": {
    "colab": {
      "name": "MIP.ipynb",
      "provenance": []
    },
    "kernelspec": {
      "name": "python3",
      "display_name": "Python 3"
    }
  },
  "cells": [
    {
      "cell_type": "code",
      "metadata": {
        "id": "eGnWj5x3tFWD",
        "colab_type": "code",
        "colab": {
          "base_uri": "https://localhost:8080/",
          "height": 119
        },
        "outputId": "d357dad7-0827-4904-9e93-2698290dff2e"
      },
      "source": [
        "pip install pulp"
      ],
      "execution_count": 4,
      "outputs": [
        {
          "output_type": "stream",
          "text": [
            "Collecting pulp\n",
            "\u001b[?25l  Downloading https://files.pythonhosted.org/packages/fb/34/ff5915ff6bae91cfb7c4cc22c3c369a6aea0b2127045dd5f308a91c260ac/PuLP-2.0-py3-none-any.whl (39.2MB)\n",
            "\u001b[K     |████████████████████████████████| 39.2MB 96kB/s \n",
            "\u001b[?25hRequirement already satisfied: pyparsing>=2.0.1 in /usr/local/lib/python3.6/dist-packages (from pulp) (2.4.5)\n",
            "Installing collected packages: pulp\n",
            "Successfully installed pulp-2.0\n"
          ],
          "name": "stdout"
        }
      ]
    },
    {
      "cell_type": "markdown",
      "metadata": {
        "id": "ChIjXTZI4OeG",
        "colab_type": "text"
      },
      "source": [
        "Una empresa de helados de vino produce helados de dos sabores,ejecutandose en distintos tiempo.\n",
        "\n",
        "Hay una maquina de helados , 2 empleados y 1 vendedor , tanto el el empleado como el vendedor trabajan 21 dias .\n",
        "\n",
        "Los dos sabores necesitan un tiempo diferente de cada recurso:\n",
        "\n",
        "**Tiempo de la maquina:**\n",
        "\n",
        "  Helado de vino blanco -> 3 horas\n",
        "  Helado de vino tinto -> 4 horas\n",
        "\n",
        "**Tiempo del empleado:**\n",
        "\n",
        "  Helado de vino blanco -> 5 horas\n",
        "  Helado de vino tinto -> 6 horas\n",
        "\n",
        "**Tiempo del ingeniero:**\n",
        "\n",
        "  Helado de vino blanco -> 1.5 horas\n",
        "  Helado de vino tinto -> 3 horas\n",
        "\n",
        "**Ganancias:**\n",
        "  Helado de vino blanco -> 3000 bs al mes\n",
        "  Helado de vino tinto -> 4500 bs al mes\n"
      ]
    },
    {
      "cell_type": "code",
      "metadata": {
        "id": "40guLbSbzHPn",
        "colab_type": "code",
        "colab": {
          "base_uri": "https://localhost:8080/",
          "height": 102
        },
        "outputId": "836a15b0-79e7-4735-8792-8e244938fc39"
      },
      "source": [
        "import pulp\n",
        "# Instancia del modelo \n",
        "modelo = pulp.LpProblem(\"Problema de maximizacion de ganacias\", pulp.LpMaximize)\n",
        "HT = pulp.LpVariable('Helado de vino tinto', lowBound=0, cat='Integer')\n",
        "HB = pulp.LpVariable('Helado de vino blanco', lowBound=0, cat='Integer')\n",
        "# Funcion Objetivo\n",
        "modelo += 4500 * HT + 3000 * HB, \"Ganancia\"\n",
        "\n",
        "# Restricciones\n",
        "modelo += 4 * HT + 3 * HB <= 24\n",
        "modelo += 6 * HT + 5 * HB <= 24\n",
        "modelo += 3 * HT + 1.5 * HB <= 14\n",
        "# Solucion del problema\n",
        "modelo.solve()\n",
        "pulp.LpStatus[modelo.status]\n",
        "# Print our decision variable values\n",
        "print (\"Produccion de helado de vino tinto = {}\".format(HT.varValue))\n",
        "print (\"Produccion de helado de vino blanco = {}\".format(HB.varValue))\n",
        "# Print our objective function value\n",
        "print (pulp.value(modelo.objective))"
      ],
      "execution_count": 30,
      "outputs": [
        {
          "output_type": "stream",
          "text": [
            "Produccion de helado de vino tinto = 4.0\n",
            "Produccion de helado de vino blanco = 0.0\n",
            "18000.0\n"
          ],
          "name": "stdout"
        },
        {
          "output_type": "stream",
          "text": [
            "/usr/local/lib/python3.6/dist-packages/pulp/pulp.py:1137: UserWarning: Spaces are not permitted in the name. Converted to '_'\n",
            "  warnings.warn(\"Spaces are not permitted in the name. Converted to '_'\")\n"
          ],
          "name": "stderr"
        }
      ]
    }
  ]
}